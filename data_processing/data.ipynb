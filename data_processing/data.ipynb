{
 "cells": [
  {
   "cell_type": "code",
   "execution_count": null,
   "metadata": {},
   "outputs": [],
   "source": [
    "import warnings\n",
    "import numpy as np\n",
    "from unidecode import unidecode\n",
    "import pandas as pd\n",
    "warnings.filterwarnings('ignore')\n",
    "class DataProcessing:\n",
    "    def __init__(self, filename: str) -> None:\n",
    "        if filename.endswith(\".xlsx\"):\n",
    "            self.df = pd.read_excel(filename, skiprows=8, skipfooter=2, header=[0])\n",
    "        if filename.endswith(\".csv\"):\n",
    "            self.df = pd.read_csv(filename, skiprows=8, skipfooter=2, header=[0])\n",
    "        self.df.replace(np.nan, -1, inplace=True)\n",
    "        self.df['Mã sinh viên'] = self.df['Mã sinh viên'].astype(int).astype(str)\n",
    "        \n",
    "    def get_subject_credit(self):\n",
    "        df = self.df.drop(columns=['STT', 'Mã sinh viên', 'Họ đệm', 'Tên', 'Học lực'], axis=0)\n",
    "        df.drop(columns=df.columns[-6:], axis=0, inplace=True)\n",
    "        return df.iloc[0].to_dict()\n",
    "    \n",
    "    def get_all_student_detail(self):\n",
    "        first_col = self.df.columns[1]\n",
    "        last_col = self.df.columns[-7:-2]\n",
    "        df = self.df[[first_col] + list(last_col)]\n",
    "        df.columns = df.iloc[0]\n",
    "        df.drop(index=0, inplace=True)\n",
    "        df.columns = ['student_id', 'passed_credit', 'score_10', 'score_4', 'score_char', 'rank']\n",
    "        res = df.to_dict(orient='records')\n",
    "        \n",
    "        df = self.df[['Mã sinh viên', 'Họ đệm', 'Tên']].drop(index=0)\n",
    "        df.columns = ['student_id', 'first_name', 'last_name']\n",
    "        df['student_name'] = df['first_name'] + \" \" + df['last_name']\n",
    "        df['last_name'] = df.apply(lambda x: unidecode(x['last_name'].lower()), axis=1)\n",
    "        df['student_gmail'] = df.apply(lambda x: f\"{x['last_name']}.{x['student_id']}@iuh.edu.vn\", axis=1)\n",
    "        df.drop(columns=['first_name', 'last_name'], inplace=True)\n",
    "        data = df.to_dict(orient='records')\n",
    "        \n",
    "        dict1_map = {d['student_id']: d for d in data}\n",
    "        res = [dict({**d, **dict1_map.get(d['student_id'], {})}) for d in res]\n",
    "        \n",
    "        return res"
   ]
  }
 ],
 "metadata": {
  "kernelspec": {
   "display_name": "base",
   "language": "python",
   "name": "python3"
  },
  "language_info": {
   "name": "python",
   "version": "3.9.12"
  },
  "orig_nbformat": 4
 },
 "nbformat": 4,
 "nbformat_minor": 2
}
